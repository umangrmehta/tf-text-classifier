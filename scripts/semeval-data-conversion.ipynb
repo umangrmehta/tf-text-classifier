{
 "cells": [
  {
   "cell_type": "markdown",
   "source": [
    "# Convert SemEval-2017 Dataset form JSONLines to TFRecord"
   ],
   "metadata": {
    "collapsed": false
   }
  },
  {
   "cell_type": "code",
   "execution_count": 1,
   "outputs": [],
   "source": [
    "import pandas as pd\n",
    "import tensorflow as tf"
   ],
   "metadata": {
    "collapsed": false,
    "pycharm": {
     "name": "#%%\n"
    }
   }
  },
  {
   "cell_type": "markdown",
   "source": [
    "## Loading Data to Pandas\n",
    "This code block loads data into a pandas dataframe from a JSONLines file and filters out data points that have no text."
   ],
   "metadata": {
    "collapsed": false
   }
  },
  {
   "cell_type": "code",
   "execution_count": 2,
   "outputs": [
    {
     "data": {
      "text/plain": "array(['neutral', 'negative', 'positive'], dtype=object)"
     },
     "execution_count": 2,
     "metadata": {},
     "output_type": "execute_result"
    }
   ],
   "source": [
    "data = pd.read_json('../data/SemEval2017.json', lines=True)\n",
    "data = data[data['error'].isnull()]\n",
    "data = data[data['sentiment'] != \"off topic\"]\n",
    "train_data = data[data['partition'] == \"train\"]\n",
    "val_data = data[data['partition'] == \"dev\"]\n",
    "test_data = data[data['partition'] == \"test\"]\n",
    "\n",
    "data['sentiment'].unique()"
   ],
   "metadata": {
    "collapsed": false,
    "pycharm": {
     "name": "#%%\n"
    }
   }
  },
  {
   "cell_type": "markdown",
   "source": [
    "## Creating TFRecord ProtoBuf"
   ],
   "metadata": {
    "collapsed": false
   }
  },
  {
   "cell_type": "code",
   "execution_count": 3,
   "outputs": [],
   "source": [
    "sentiment_polarity = {\n",
    "    'positive': 1,\n",
    "    'neutral': 0,\n",
    "    'negative': -1\n",
    "}\n",
    "def record_to_example(record) -> tf.train.Example:\n",
    "    return tf.train.Example(features=tf.train.Features(feature={\n",
    "        'text': tf.train.Feature(bytes_list=tf.train.BytesList(value=[record['text'].encode()])),\n",
    "        'polarity': tf.train.Feature(int64_list=tf.train.Int64List(value=[sentiment_polarity[record['sentiment']]]))\n",
    "    }))"
   ],
   "metadata": {
    "collapsed": false,
    "pycharm": {
     "name": "#%%\n"
    }
   }
  },
  {
   "cell_type": "markdown",
   "source": [
    "## Converting Rows in DataFrame to TF Example and Writing to TFRecord File\n",
    "### Train Data"
   ],
   "metadata": {
    "collapsed": false
   }
  },
  {
   "cell_type": "code",
   "execution_count": 4,
   "outputs": [],
   "source": [
    "with tf.io.TFRecordWriter(path=\"../data/SemEval2017/train.tfrecords\") as writer:\n",
    "    for idx, row in train_data.iterrows():\n",
    "        example = record_to_example(row)\n",
    "        writer.write(example.SerializeToString())"
   ],
   "metadata": {
    "collapsed": false,
    "pycharm": {
     "name": "#%%\n"
    }
   }
  },
  {
   "cell_type": "markdown",
   "source": [
    "### Validation Data"
   ],
   "metadata": {
    "collapsed": false
   }
  },
  {
   "cell_type": "code",
   "execution_count": 5,
   "outputs": [],
   "source": [
    "with tf.io.TFRecordWriter(path=\"../data/SemEval2017/validation.tfrecords\") as writer:\n",
    "    for idx, row in val_data.iterrows():\n",
    "        example = record_to_example(row)\n",
    "        writer.write(example.SerializeToString())"
   ],
   "metadata": {
    "collapsed": false,
    "pycharm": {
     "name": "#%%\n"
    }
   }
  },
  {
   "cell_type": "markdown",
   "source": [
    "### Test Data"
   ],
   "metadata": {
    "collapsed": false
   }
  },
  {
   "cell_type": "code",
   "execution_count": 6,
   "outputs": [],
   "source": [
    "with tf.io.TFRecordWriter(path=\"../data/SemEval2017/test.tfrecords\") as writer:\n",
    "    for idx, row in test_data.iterrows():\n",
    "        example = record_to_example(row)\n",
    "        writer.write(example.SerializeToString())"
   ],
   "metadata": {
    "collapsed": false,
    "pycharm": {
     "name": "#%%\n"
    }
   }
  }
 ],
 "metadata": {
  "kernelspec": {
   "name": "python3",
   "language": "python",
   "display_name": "Python 3"
  },
  "language_info": {
   "codemirror_mode": {
    "name": "ipython",
    "version": 2
   },
   "file_extension": ".py",
   "mimetype": "text/x-python",
   "name": "python",
   "nbconvert_exporter": "python",
   "pygments_lexer": "ipython2",
   "version": "2.7.6"
  }
 },
 "nbformat": 4,
 "nbformat_minor": 0
}